{
  "nbformat": 4,
  "nbformat_minor": 0,
  "metadata": {
    "colab": {
      "provenance": [],
      "mount_file_id": "1Hl96FnxbaPAZkMDr_xQUTPnqLGI_aZOT",
      "authorship_tag": "ABX9TyNTIgDIpA7ZIsoddVD3r5VO"
    },
    "kernelspec": {
      "name": "python3",
      "display_name": "Python 3"
    },
    "language_info": {
      "name": "python"
    }
  },
  "cells": [
    {
      "cell_type": "markdown",
      "source": [
        "# **Discovering Stop-Antistop Quark Pair Production ($\\tilde{t},\\tilde{\\bar{t}}$) with ATLAS Open Data**\n",
        "This notebook will guide you through a hands-on analysis of high-energy proton-proton collision data from the ATLAS experiment at the Large Hadron Collider (LHC), focusing on the search for supersymmetric top quark partners: the **stop ($\\tilde{t}$)** and **antistop ($\\tilde{\\bar{t}}$)**. These hypothetical particles are predicted by Supersymmetry (SUSY) and could provide answers to fundamental open questions in the Standard Model.\n",
        "\n",
        "ATLAS Open Data offers publicly available datasets collected at $\\sqrt{s} = 13$ TeV, ideal for educational analyses ranging from high-school to postgraduate levels. In this notebook, you will learn how to:\n",
        "\n",
        "Understand the event topology of stop-antistop production.\n",
        "\n",
        "Apply event selection (\"cuts\") to enhance the sensitivity to SUSY signals.\n",
        "\n",
        "Use physics-motivated observables (e.g., lepton kinematics, b-tagged jets, missing transverse energy) to reduce backgrounds.\n",
        "\n",
        "Reconstruct variables relevant to SUSY signatures and search for excesses beyond the Standard Model expectations.\n",
        "\n",
        "# **Physics Motivation: The $\\tilde{t},\\tilde{\\bar{t}}$ Decay Channel**\n",
        "We focus on the decay chain:\n",
        "\n",
        "$\\tilde{t}\\tilde{\\bar{t}} → t\\bar{t} + \\tilde{χ}^0_1\\tilde{χ}^0_1 → (bW^+)(\\bar{b}W^-) + \\tilde{χ}^0_1\\tilde{χ}^0_1$\n",
        "\n",
        "Assuming both $W$ bosons decay leptonically, and considering one electron and one muon in the final state, we study the following signature:\n",
        "\n",
        "$pp → \\tilde{t}\\tilde{\\bar{t}} → e^{±}μ^{∓}b\\bar{b} + E^{miss}_T$\n",
        "\n",
        "where:\n",
        "\n",
        "$e^\\pm$, $\\mu^\\mp$ are opposite-sign, different-flavor leptons,\n",
        "\n",
        "$b$, $\\bar{b}$ are b-tagged jets,\n",
        "\n",
        "$E_T^{\\text{miss}}$ represents the missing transverse energy due to undetected neutralinos ($\\tilde{\\chi}_1^0$).\n",
        "\n",
        "This dileptonic channel has a relatively low Standard Model background and good sensitivity to SUSY signals.\n",
        "\n",
        "# **The Goal: Identify a SUSY Signal in the $e\\mu b\\bar{b} + E_T^{\\text{miss}}$ Final State**\n",
        "By following this notebook, you will aim to identify an excess of events consistent with the decay of $\\tilde{t},\\tilde{\\bar{t}}$ pairs. You will:\n",
        "\n",
        "Select events with exactly one isolated electron and one isolated muon,\n",
        "\n",
        "Require at least two b-tagged jets,\n",
        "\n",
        "Study the distributions of $Δη(l^+l^-)$, $Δφ(l^+l^-)$and other variables,\n",
        "\n",
        "Compare data with Standard Model Monte Carlo (MC) simulations to assess compatibility or deviations\n",
        "\n",
        "# **What Are Notebooks?**\n",
        "\n",
        "Notebooks are interactive web applications that allow you to create and share documents that contain:\n",
        "\n",
        "1. **Live code:** Write and execute code in real-time, making adjustments as you go.\n",
        "\n",
        "2. **Visualizations:** Create plots, histograms, and other graphical representations of your data to better understand the underlying physics.\n",
        "\n",
        "3. **Narrative text:** Include explanations, descriptions, and commentary to guide yourself or others through the analysis.\n",
        "\n",
        "# **Running a Jupyter notebook**\n",
        "To run the whole Jupyter notebook, in the top menu click Cell -> Run All.\n",
        "\n",
        "To propagate a change you've made to a piece of code, click Cell -> Run All Below.\n",
        "\n",
        "You can also run a single code cell, by clicking Cell -> Run Cells, or using the keyboard shortcut Shift+Enter.\n"
      ],
      "metadata": {
        "id": "R7LFVq_wMFXw"
      }
    },
    {
      "cell_type": "markdown",
      "source": [
        "# **ATLAS Open Data Initialisation**\n",
        "**First time package installation on your computer**\n",
        "\n",
        "This first cell installs the required python packages. It only needs to be run the first time you open this notebook on your computer. If you close Jupyter and re-open on the same computer, you won't need to run this first cell again."
      ],
      "metadata": {
        "id": "CK6a7FZQgXlM"
      }
    },
    {
      "cell_type": "code",
      "execution_count": null,
      "metadata": {
        "id": "k3c0nDziL30E"
      },
      "outputs": [],
      "source": [
        "!pip install atlasopenmagic\n",
        "!pip install uproot"
      ]
    },
    {
      "cell_type": "markdown",
      "source": [
        "# **To setup**\n",
        "Cell -> Run All Below\n",
        "\n",
        "to be done every time you re-open this notebook\n",
        "\n",
        "We're going to be using a number of tools to help us:\n",
        "\n",
        "* uproot: lets us read .root files typically used in particle physics into data formats used in python\n",
        "* awkward: lets us use efficiently the nested data in columnar format\n",
        "* pandas: lets us store data as dataframes, a format widely used in python\n",
        "* numpy: provides numerical calculations such as histogramming\n",
        "* matplotlib: common tool for making plots, figures, images, visualisations\n",
        "* concurrent.futures: Enables parallel execution, which speeds up computations when working with large datasets."
      ],
      "metadata": {
        "id": "f7tl1Y2eQN9z"
      }
    },
    {
      "cell_type": "code",
      "source": [
        "import uproot  # For reading ROOT files efficiently\n",
        "import awkward as ak  # To represent nested data in columnar format\n",
        "import numpy as np  # For numerical calculations such as histogramming\n",
        "import pandas as pd # For dataframes, a format widely used in python\n",
        "import matplotlib.pyplot as plt  # For creating plots and visualizations\n",
        "from matplotlib.ticker import AutoMinorLocator  # For adding minor ticks to plot axes\n",
        "import atlasopenmagic as atom  # Provides access to ATLAS Open Data metadata and streaming URLs\n",
        "from concurrent.futures import ProcessPoolExecutor, as_completed # Enables parallel execution for faster processing of large datasets\n",
        "\n",
        "import time  # For timing operations and adding delays if needed\n",
        "# Filter warnings that otherwise appear in output. These are normal in the running of this notebook.\n",
        "import warnings\n",
        "\n",
        "import matplotlib.animation as animation\n",
        "from IPython.display import HTML\n",
        "\n",
        "warnings.filterwarnings(\"ignore\", message=\"invalid value encountered in sqrt\")\n",
        "warnings.filterwarnings(\"ignore\", message=\"overflow encountered in power\")\n",
        "warnings.filterwarnings(\"ignore\", message=\"overflow encountered in multiply\", category=RuntimeWarning)\n",
        "warnings.filterwarnings(\"ignore\", message=\"invalid value encountered in subtract\")"
      ],
      "metadata": {
        "id": "NiuqxzcSQOTK"
      },
      "execution_count": null,
      "outputs": []
    },
    {
      "cell_type": "markdown",
      "source": [
        "# **Explanation of Key Parameters in the $\\tilde{t}\\tilde{\\bar{t}}$ Analysis Code**\n",
        "\n",
        "In particle physics analyses, various parameters and constants are essential for accurately processing data and interpreting results. Below is an explanation of the key parameters used in the\n",
        " $t\\bar{t}$ analysis code provided:\n",
        "\n",
        "1.   **Integrated Luminosity (lumi)**\n",
        "\n",
        "  *   Definition: Integrated luminosity is a measure of the total amount of data collected by a particle detector over a certain period. It represents the total number of potential collisions that could have occurred in a particle accelerator and is typically measured in inverse femtobarns fb$^{-1}$.\n",
        "\n",
        "2. **Fraction of Events to Process**\n",
        "\n",
        "  *   Definition: This parameter controls what fraction of the available events in the dataset will be processed by the analysis.\n",
        "\n",
        "\n",
        "3. **MV2c10 b-Tagging Algorithm Discriminant Cut Value Definition**\n",
        "  * The MV2c10 is a b-tagging algorithm used to identify jets originating from b-quarks. The discriminant cut value determines the threshold for tagging a jet as a b-jet.\n",
        "\n",
        "  For further information visit [atlas glossary](https://atlas.cern/glossary)"
      ],
      "metadata": {
        "id": "JeRJEHCuQVUQ"
      }
    },
    {
      "cell_type": "code",
      "source": [
        "# Integrated luminosity in inverse picobarns\n",
        "lumi = 36000.\n",
        "\n",
        "# Fraction of events to process\n",
        "fraction = 0.01\n",
        "\n",
        "# MV2c10 b-tagging algorithm discriminant cut value\n",
        "MV2c10_lim = 4"
      ],
      "metadata": {
        "id": "MG5ivO9hQVtd"
      },
      "execution_count": null,
      "outputs": []
    },
    {
      "cell_type": "markdown",
      "source": [
        "# **Samples**\n",
        "To study the production of stop-antistop quark pairs ($\\tilde{t} \\tilde{\\bar{t}}$), we employ a carefully chosen set of data and Monte Carlo (MC) simulation samples. These samples capture both the potential signal from supersymmetric processes and the dominant background contributions from Standard Model (SM) processes that can mimic the expected final state."
      ],
      "metadata": {
        "id": "dFY5Fjo7xNH-"
      }
    },
    {
      "cell_type": "code",
      "source": [
        "# Set the ATOM analysis release version to a specific beta version for 13 TeV data from 2025\n",
        "atom.set_release('2025e-13tev-beta')\n",
        "\n",
        "# Define the data samples using dataset identifiers (DIDs)\n",
        "data_defs = {\n",
        "    r'Data':  {'dids': [\"data\"]}\n",
        "}\n",
        "\n",
        "# Define the first set of Monte Carlo (MC) samples\n",
        "mc_defs = {\n",
        "    r'Data':  {'dids': [\"data\"]},\n",
        "    r'ttbar': {'dids': [410470,410471]},\n",
        "    r'tW': {'dids': [410658,410659,410644,410645,601352,601355]},\n",
        "}\n",
        "\n",
        "# Define a second set of MC samples for a different ttbar variant\n",
        "mc_defs_1 = {\n",
        "    r'ttbar_1': {'dids': [411234]}\n",
        "}\n",
        "\n",
        "# Define a third set of MC samples, repeating ttbar for the truth\n",
        "mc_defs_2 = {\n",
        "    r'ttbar': {'dids': [410470,410471]}\n",
        "}\n",
        "\n",
        "# Build the actual datasets using the ATOM API with a skim named '2J2LMET30'\n",
        "data = atom.build_dataset(data_defs, skim='2J2LMET30', protocol='https')  # Build data sample\n",
        "mc_samples_1 = atom.build_dataset(mc_defs, skim='2J2LMET30', protocol='https')  # Build first MC sample set\n",
        "mc_samples_2 = atom.build_dataset(mc_defs_1, skim='2J2LMET30', protocol='https')  # Build second MC sample set\n",
        "mc_samples_3 = atom.build_dataset(mc_defs_2, skim='2J2LMET30', protocol='https')  # Build third MC sample set\n",
        "\n",
        "# Merge all datasets into a single dictionary for processing\n",
        "samples = {**data, **mc_samples_1, **mc_samples_2, **mc_samples_3}\n",
        "\n",
        "# Define the list of variables to be extracted from the datasets\n",
        "variables = [\n",
        "    \"mcWeight\", \"ScaleFactor_LepTRIGGER\", \"ScaleFactor_MLTRIGGER\", \"trigE\", \"trigM\", \"lep_n\", \"lep_pt\", \"ScaleFactor_BTAG\",\n",
        "    \"lep_eta\", \"lep_phi\", \"lep_charge\", \"lep_type\", \"met\", \"met_phi\", \"sum_of_weights\", \"ScaleFactor_FTAG\",\n",
        "    \"xsec\", \"jet_pt\", \"jet_btag_quantile\", \"jet_n\", \"jet_eta\", \"jet_phi\", \"jet_e\", \"jet_jvt\", \"lep_isTrigMatched\",\n",
        "    \"lep_type\", \"lep_e\", \"eventNumber\", \"ScaleFactor_ELE\", \"ScaleFactor_MUON\", \"ScaleFactor_PILEUP\", \"filteff\", \"kfac\",\n",
        "    \"truth_elec_n\", \"truth_elec_eta\", \"truth_elec_phi\", \"truth_elec_pt\", \"truth_muon_n\", \"truth_muon_eta\", \"truth_muon_phi\", \"truth_muon_pt\",\n",
        "    \"truth_jet_pt\", \"truth_jet_eta\", \"truth_jet_phi\"]"
      ],
      "metadata": {
        "id": "9GIrXdylxNYT",
        "colab": {
          "base_uri": "https://localhost:8080/"
        },
        "outputId": "2ada9bee-00ee-496f-cbb0-9f398d564cd5"
      },
      "execution_count": null,
      "outputs": [
        {
          "output_type": "stream",
          "name": "stdout",
          "text": [
            "Active release set to: 2025e-13tev-beta. Metadata cache cleared.\n",
            "Fetching and caching all metadata for release: 2025e-13tev-beta...\n",
            "Successfully cached 374 datasets.\n"
          ]
        }
      ]
    },
    {
      "cell_type": "markdown",
      "source": [
        "# **Weight in Supersymmetric Particle Physics Analysis**\n",
        "In searches for new physics phenomena, such as the production of scalar top quark pairs ($\\tilde{t} \\tilde{\\bar{t}}$) in supersymmetric (SUSY) models, event weights are essential to accurately interpret the results of Monte Carlo (MC) simulations and compare them with real experimental data.\n",
        "\n",
        "Each MC event represents not a single physical occurrence, but rather a probabilistic sample of a certain physical process. To ensure that the total event yield and distributions correctly reflect the expected number of events in actual data, weights are applied to each event."
      ],
      "metadata": {
        "id": "bq_pnk7ixRR6"
      }
    },
    {
      "cell_type": "code",
      "source": [
        "def calc_weight(data):\n",
        "    weight_list =( data[\"ScaleFactor_MLTRIGGER\"] * data[\"ScaleFactor_PILEUP\"] * data[\"ScaleFactor_LepTRIGGER\"] *\n",
        "                 ( data[\"ScaleFactor_BTAG\"] * data[\"mcWeight\"] / data[\"sum_of_weights\"]) *\n",
        "                 (data[\"xsec\"] * data[\"filteff\"] * data[\"kfac\"] * lumi) )\n",
        "    return weight_list"
      ],
      "metadata": {
        "id": "yEtNv8PhxRer"
      },
      "execution_count": null,
      "outputs": []
    },
    {
      "cell_type": "markdown",
      "source": [
        "# **Introduction to Event Selection Cuts in $\\tilde{t}\\tilde{\\bar{t}}$ Analysis**\n",
        "\n",
        "In particle physics, particularly in the analysis of stop-antistop $\\tilde{t}\\tilde{\\bar{t}}$ quark pair production, the process of event selection is crucial for isolating the signal from the background. The goal is to apply a series of cuts, or selection criteria, that filter out events unlikely to be associated with the $\\tilde{t}\\tilde{\\bar{t}}$ process, leaving a dataset enriched with signal events. These cuts are based on specific physical properties of the events, such as the presence and characteristics of leptons and jets.\n",
        "\n",
        "Each cut is designed to enhance the signal-to-background ratio, which is essential for making a clear observation of the $\\tilde{t}\\tilde{\\bar{t}}$ signal. Below is an overview of the key cuts applied in this analysis:\n",
        "\n",
        "1. **Trigger Selection:**\n",
        "  * The first step in the analysis is to ensure that the events under consideration have fired the appropriate triggers.\n",
        "  * Purpose: This cut checks whether both the electron trigger ('trigE') and the muon trigger ('trigM') has been activated. If both triggers fired, the event is considered for further analysis."
      ],
      "metadata": {
        "id": "kldvCPc0xWbf"
      }
    },
    {
      "cell_type": "code",
      "source": [
        "def tr_cuts(trE, trM):\n",
        "    # selecting events where exactly two lepton triggers\n",
        "    return ak.sum((trE) | (trM) ,axis=1) == 2"
      ],
      "metadata": {
        "id": "VMtMrDZ2xWoi"
      },
      "execution_count": null,
      "outputs": []
    },
    {
      "cell_type": "markdown",
      "source": [
        "2. **Lepton Multiplicity Selection:**\n",
        "* This selection ensures that events contain exactly two leptons, which is a requirement for analyses targeting dilepton final states"
      ],
      "metadata": {
        "id": "kjuAlKCzP8Nm"
      }
    },
    {
      "cell_type": "code",
      "source": [
        "def num_lep(lep_n):\n",
        "    # selecting events where exactly two leptons\n",
        "    return lep_n == 2"
      ],
      "metadata": {
        "id": "gobY43_VP8ha"
      },
      "execution_count": null,
      "outputs": []
    },
    {
      "cell_type": "markdown",
      "source": [
        "3. **Jet Selection:**\n",
        "\n",
        "The function applies two conditions:\n",
        "\n",
        "* Jet $p_T$ and $\\eta$ Requirement:\n",
        "\n",
        "  *   At least two jets must have a transverse momentum $p_T \\geq 25 GeV$ and pseudorapidity within\n",
        "$|\\eta| < 2.5$.\n",
        "\n",
        "*   b-tagging Requirement:\n",
        "  *   The event must contain at least one jet with a $b-tagging \\geq 4$."
      ],
      "metadata": {
        "id": "OBgemXQZxW_k"
      }
    },
    {
      "cell_type": "code",
      "source": [
        "def jets_cuts(jet_pt, eta, btag):\n",
        "    # Select events with at least 2 jets having pT ≥ 25 GeV and |η| < 2.5\n",
        "    num_pt = ak.sum((jet_pt >= 25) & (np.abs(eta) < 2.5), axis=1) >= 2\n",
        "\n",
        "    # Select events with at least 1 jet having a b-tagging score ≥ 4\n",
        "    num_btag = ak.sum(btag >= 4, axis=1) >= 1\n",
        "\n",
        "    return num_pt & num_btag"
      ],
      "metadata": {
        "id": "luThexUExXLc"
      },
      "execution_count": null,
      "outputs": []
    },
    {
      "cell_type": "markdown",
      "source": [
        "4. **Delta R ($\\Delta R$) Cut:**\n",
        "\n",
        "This function ensures that the jets in the event are sufficiently separated from the leptons in the $\\eta-\\phi$ space, which helps to reduce contamination from misidentified events.\n",
        "\n",
        "  * Purpose: The cut calculates the $\\Delta R$ values for each jet with respect to both leptons using their pseudorapidities ($\\eta$) and azimuthal angles ($\\phi$):\n",
        "\n",
        "    * Calculating $\\Delta R$ for Each lepton:\n",
        "      $\\Delta R_{1}$ is computed between each jet and the first lepton.\n",
        "      $\\Delta R_{2}$ is computed between each jet and the second lepton.\n",
        "    * Separation Criteria: The cut checks if at least one jet is separated from each lepton by $\\Delta R \\geq 0.4$."
      ],
      "metadata": {
        "id": "En9a0dZxxm0C"
      }
    },
    {
      "cell_type": "code",
      "source": [
        "def cut_DR(eta, phi, eta_lep, phi_lep):\n",
        "\n",
        "    # Compute Δφ between each jet and the first lepton\n",
        "    Dphi1 = np.arccos(np.cos(phi - phi_lep[:, 0]))  # Use arccos(cos(Δφ)) to ensure Δφ ∈ [0, π]\n",
        "\n",
        "    # Compute Δφ between each jet and the second lepton\n",
        "    Dphi2 = np.arccos(np.cos(phi - phi_lep[:, 1]))\n",
        "\n",
        "    # Compute Δη between each jet and the first lepton\n",
        "    Deta1 = eta - eta_lep[:, 0]\n",
        "\n",
        "    # Compute Δη between each jet and the second lepton\n",
        "    Deta2 = eta - eta_lep[:, 1]\n",
        "\n",
        "    # Compute ΔR between each jet and the first lepton: ΔR = sqrt((Δη)^2 + (Δφ)^2)\n",
        "    DR_1 = np.sqrt(Deta1**2 + Dphi1**2)\n",
        "\n",
        "    # Compute ΔR between each jet and the second lepton\n",
        "    DR_2 = np.sqrt(Deta2**2 + Dphi2**2)\n",
        "\n",
        "    # Check if for each event, there is at least one jet satisfying ΔR ≥ 0.4\n",
        "    DR_1_check = ak.sum(DR_1 >= 0.4, axis=1) >= 1\n",
        "\n",
        "    # Check if for each event, there is at least one jet satisfying ΔR ≥ 0.4\n",
        "    DR_2_check = ak.sum(DR_2 >= 0.4, axis=1) >= 1\n",
        "\n",
        "    # Return events where both leptons are separated from jets by ΔR ≥ 0.4 (at least one jet each)\n",
        "    return (DR_1_check) & (DR_2_check)\n"
      ],
      "metadata": {
        "id": "hQOIo-vjxmR4"
      },
      "execution_count": null,
      "outputs": []
    },
    {
      "cell_type": "markdown",
      "source": [
        "5. **Lepton Type and Charge Selection:**\n",
        "\n",
        "This function ensures that the selected events contain exactly one electron and one muon with opposite electric charges. The function applies two conditions:\n",
        "\n",
        "* Lepton Type Requirement:\n",
        "\n",
        "  * The sum of the lep_type values must equal 24. In the ATLAS convention, the lepton type is often encoded as:\n",
        "  \n",
        "  * 11: $e^-$ or  $e^+$\n",
        "\n",
        "  * 13: $μ^-$ or  $μ^+$\n",
        "\n",
        "  * Thus, 11+13=24, ensuring that one electron and one muon are present in the event.\n",
        "\n",
        "* Lepton Charge Requirement:\n",
        "\n",
        "  * The sum of the lepton charges must equal 0, the leptons must have opposite electric charges."
      ],
      "metadata": {
        "id": "pNpPsgC1xowB"
      }
    },
    {
      "cell_type": "code",
      "source": [
        "def charge_and_type_cut(lep_type, lep_cha):\n",
        "    # Select events where the sum of lepton types equals 24\n",
        "    type_cut = ak.sum(lep_type, axis=1) == 24\n",
        "\n",
        "    # Select events where the sum of lepton charges equals 0\n",
        "    lep_change = ak.sum(lep_cha, axis=1) == 0\n",
        "\n",
        "    return type_cut & lep_change"
      ],
      "metadata": {
        "id": "K67QHQLYxo_9"
      },
      "execution_count": null,
      "outputs": []
    },
    {
      "cell_type": "markdown",
      "source": [
        "6. **Lepton Kinematic Selection:**\n",
        "\n",
        "The function applies two conditions:\n",
        "\n",
        "* Lepton Transverse Momentum ($p_T$) Requirement:\n",
        "\n",
        "  * Each event must contain at least two leptons with transverse momentum:\n",
        "    $p_T \\geq 25 GeV$\n",
        "  \n",
        "    This threshold ensures that selected leptons are energetic enough to pass trigger thresholds and to be well-measured.\n",
        "\n",
        "* Lepton Pseudorapidity ($\\eta$) Requirement:\n",
        "\n",
        "  * Each event must also contain at least two leptons within the pseudorapidity range:\n",
        "    $|\\eta| < 2.5$\n",
        "  \n",
        "    This condition restricts leptons to the central part of the detector, where reconstruction and identification are most reliable."
      ],
      "metadata": {
        "id": "wjuMWs2LWZMh"
      }
    },
    {
      "cell_type": "code",
      "source": [
        "def cut_lep_pt(lep_pt, eta):\n",
        "    # Select events with at least 2 leptons having pT > 25 GeV\n",
        "    pt_cut = ak.sum(lep_pt > 25, axis=1) >= 2\n",
        "\n",
        "    # Select events with at least 2 leptons within the pseudorapidity range |η| < 2.5\n",
        "    eta_cut = ak.sum(np.abs(eta) < 2.5, axis=1) >= 2\n",
        "\n",
        "    return pt_cut & eta_cut"
      ],
      "metadata": {
        "id": "GZmksPZiWZgO"
      },
      "execution_count": null,
      "outputs": []
    },
    {
      "cell_type": "markdown",
      "source": [
        "7. **Truth Jet Multiplicity Cut:**\n",
        "\n",
        "This function applies a selection criterion on the number of truth-level jets with sufficient transverse momentum. Specifically:\n",
        "\n",
        "* Jet  $p_{T}$ Threshold:\n",
        "\n",
        "  * Only jets with transverse momentum greater than or equal to 25 GeV are considered."
      ],
      "metadata": {
        "id": "B2EOi6CsQdFo"
      }
    },
    {
      "cell_type": "code",
      "source": [
        "def tr_jets_cuts(jet_pt):\n",
        "    # Select events with at least 2 truth jets having pT ≥ 25 GeV\n",
        "    return ak.sum(jet_pt >= 25, axis=1) >= 2"
      ],
      "metadata": {
        "id": "u7FuwpblQdzS"
      },
      "execution_count": null,
      "outputs": []
    },
    {
      "cell_type": "markdown",
      "source": [
        "8. **Truth Lepton Multiplicity Cut:**\n",
        "\n",
        "This function applies a selection on the number of truth-level leptons in each event, ensuring that exactly one electron and one muon are present. The cut includes:\n",
        "\n",
        "* **Count Requirement:**\n",
        "\n",
        "  * The number of truth-level electrons and muons must be exactly one in each event."
      ],
      "metadata": {
        "id": "EH3-9zDeQeFQ"
      }
    },
    {
      "cell_type": "code",
      "source": [
        "def tr_lep_num_cut(truth_e_pt,truth_m_pt):\n",
        "    # Count number of truth electrons per event, select those with exactly one\n",
        "    num_e = ak.count(truth_e_pt, axis=1) == 1\n",
        "\n",
        "    # Count number of truth muons per event, select those with exactly one\n",
        "    num_m = ak.count(truth_m_pt, axis=1) == 1\n",
        "\n",
        "    return (num_e & num_m)"
      ],
      "metadata": {
        "id": "E5n1JXY2Qeei"
      },
      "execution_count": null,
      "outputs": []
    },
    {
      "cell_type": "markdown",
      "source": [
        "9. **Truth Lepton $p_{T}$ Cut:**\n",
        "\n",
        "This function applies transverse momentum selection criteria on the truth-level leptons (electrons and muons) to ensure that both leptons in the event are energetic enough to pass analysis thresholds. The cut is defined as follows:\n",
        "\n",
        "* **$p_{T}$ Requirement:**\n",
        "\n",
        "  * The event must contain exactly one truth-level electron and muon with transverse momentum $p_{T} \\ge 25 GeV$.\n"
      ],
      "metadata": {
        "id": "NztUb3TRQeuf"
      }
    },
    {
      "cell_type": "code",
      "source": [
        "def tr_lep_pt_cut(truth_e_pt,truth_m_pt):\n",
        "    # Select events where exactly one truth electron has pT ≥ 25 GeV\n",
        "    pt_e_cut = ak.sum(truth_e_pt >= 25, axis=1) == 1\n",
        "\n",
        "    # Select events where exactly one truth muon has pT ≥ 25 GeV\n",
        "    pt_m_cut = ak.sum(truth_m_pt >= 25, axis=1) == 1\n",
        "\n",
        "    return (pt_e_cut & pt_m_cut)"
      ],
      "metadata": {
        "id": "ntXMTBn8Qe9x"
      },
      "execution_count": null,
      "outputs": []
    },
    {
      "cell_type": "markdown",
      "source": [
        "10. **Truth Lepton-Jet Angular Separation ($\\Delta R$) Cut:**\n",
        "\n",
        "This function imposes an angular separation requirement between each truth-level lepton (electron and muon) and all truth-level jets in an event. Specifically, it ensures that leptons are sufficiently isolated from jets, a standard requirement in event selection to reduce contamination from jet activity.\n",
        "\n",
        "* **Definition of Angular Separation:**\n",
        "\n",
        "  The angular distance $\\Delta R$ between a lepton and a jet is defined as:\n",
        "  $\\Delta R= \\sqrt{ (\\Delta\\eta)^2 + (\\Delta\\phi)^2}$\n",
        "  where:\n",
        "  * $\\Delta\\eta$ is the difference in pseudorapidity between the lepton and the jet.\n",
        "  * $\\Delta\\phi$ is the difference in azimuthal angle, computed using a cosine-based definition to account for $2\\pi$ periodicity."
      ],
      "metadata": {
        "id": "rORy9rTQQjuR"
      }
    },
    {
      "cell_type": "code",
      "source": [
        "def tr_lep_DR_cut(e_e, e_p, m_e, m_p, j_e, j_p):\n",
        "    # Compute Δφ between each jet and all truth electrons\n",
        "    Dphi1 = np.arccos(np.cos(j_p - ak.flatten(e_p, axis=1)))\n",
        "\n",
        "    # Compute Δφ between each jet and all truth muons\n",
        "    Dphi2 = np.arccos(np.cos(j_p - ak.flatten(m_p, axis=1)))\n",
        "\n",
        "    # Compute Δη between each jet and all truth electrons\n",
        "    Deta1 = j_e - ak.flatten(e_e, axis=1)  # Use flattened η of truth electrons\n",
        "\n",
        "    # Compute Δη between each jet and all truth muons\n",
        "    Deta2 = j_e - ak.flatten(m_e, axis=1)  # Use flattened η of truth muons\n",
        "\n",
        "    # Compute ΔR between each jet and each truth electron\n",
        "    DR_1 = np.sqrt(Deta1**2 + Dphi1**2)\n",
        "\n",
        "    # Compute ΔR between each jet and each truth muon\n",
        "    DR_2 = np.sqrt(Deta2**2 + Dphi2**2)\n",
        "\n",
        "    # Check if at least one truth electron is separated from a jet by ΔR ≥ 0.4\n",
        "    DR_1_check = ak.sum(DR_1 >= 0.4, axis=1) >= 1\n",
        "\n",
        "    # Check if at least one truth muon is separated from a jet by ΔR ≥ 0.4\n",
        "    DR_2_check = ak.sum(DR_2 >= 0.4, axis=1) >= 1\n",
        "\n",
        "    # Return events that pass both electron-jet and muon-jet ΔR separation criteria\n",
        "    return (DR_1_check) & (DR_2_check)\n"
      ],
      "metadata": {
        "id": "_N-7fgmOQj8-"
      },
      "execution_count": null,
      "outputs": []
    },
    {
      "cell_type": "markdown",
      "source": [
        "# **Angular Separation Calculation**\n",
        "**Angular Separation Calculation:** This function computes the angular separation between two leptons in each event in terms of their azimuthal angle difference ($\\Delta\\phi$) and pseudorapidity difference ($\\Delta\\eta$). These quantities are essential for constructing kinematic observables such as the invariant mass and $\\Delta R$, and they also provide insight into the event topology.\n",
        "\n",
        "  The function returns:\n",
        "\n",
        "* $\\Delta\\phi$:\n",
        "  The difference in azimuthal angle (in radians) between the two leptons, defined as: $\\Delta\\phi = |arccos(cos(\\phi_1-\\phi_2))|$\n",
        "  This formulation ensures that $\\Delta\\phi \\in [0,\\pi]$.\n",
        "\n",
        "* $\\Delta\\eta$: The absolute difference in pseudorapidity between the two leptons:$\\Delta\\eta = |\\eta_1 - \\eta_2|$"
      ],
      "metadata": {
        "id": "Jf_C6FcKWf3c"
      }
    },
    {
      "cell_type": "code",
      "source": [
        "def calc_dphi_and_deta(lep_eta,lep_phi):\n",
        "    # Calculate the absolute Δφ between the two leptons,\n",
        "    # using arccos(cos(Δφ)) to ensure the result lies in [0, π]\n",
        "    dphi = np.abs(np.arccos(np.cos(lep_phi[:, 0] - lep_phi[:, 1])))\n",
        "\n",
        "    # Calculate the absolute Δη between the two leptons\n",
        "    deta = np.abs(lep_eta[:, 0] - lep_eta[:, 1])\n",
        "    return [dphi,deta]"
      ],
      "metadata": {
        "id": "lheCPAiKWgGY"
      },
      "execution_count": null,
      "outputs": []
    },
    {
      "cell_type": "markdown",
      "source": [
        "**Truth Lepton Angular Separation:**\n",
        "\n",
        "This function computes the angular distance between the selected truth-level electron and muon in each event."
      ],
      "metadata": {
        "id": "X57RT2i9Q0sq"
      }
    },
    {
      "cell_type": "code",
      "source": [
        "def calc_tr_dphi_and_deta(tr_elec_eta,tr_elec_phi,tr_muon_eta,tr_muon_phi):\n",
        "    # Calculate the absolute difference in pseudorapidity (Δη) between truth electrons and muons\n",
        "    deta = np.abs(tr_elec_eta - tr_muon_eta)\n",
        "\n",
        "    # Calculate the absolute difference in azimuthal angle (Δφ) using arccos(cos(Δφ)) to ensure angle is in [0, π]\n",
        "    dphi = np.abs(np.arccos(np.cos(tr_elec_phi - tr_muon_phi)))\n",
        "\n",
        "    # Flatten awkward arrays into 1D arrays\n",
        "    deta = ak.flatten(deta, axis=None)\n",
        "    dphi = ak.flatten(dphi, axis=None)\n",
        "\n",
        "    return [dphi,deta]"
      ],
      "metadata": {
        "id": "jRpPnHteQ1Ge"
      },
      "execution_count": null,
      "outputs": []
    },
    {
      "cell_type": "markdown",
      "source": [
        "**Lepton Matching and Final-State Angular Separation:**\n",
        "\n",
        "This function identifies the best-matched reconstructed leptons corresponding to the truth-level electron and muon in each event. The matching is based on the angular separation ($\\Delta R$) between truth and reconstructed particles. Once the best matches are found, the function computes the angular separation between the matched electron and muon in terms of ($\\Delta\\phi$) and ($\\Delta\\eta$).\n",
        "\n",
        "* **Matching Strategy:**\n",
        "\n",
        "  * For each truth-level electron and muon, the function computes the ($\\Delta R$) distance to **all** reconstructed leptons of the same flavor:$\\Delta R= \\sqrt{ (\\eta_\\text{truth} - \\eta_\\text{reco})^2\n",
        "   + (\\phi_\\text{truth} - \\phi_\\text{reco})^2 }$\n",
        "\n",
        "* **Robustness Handling:**\n",
        "\n",
        "  * Events with no matching reconstructed leptons are assigned large pseudorapidity values (e.g., \\( 10^4 \\)) to signal invalid pairings.\n",
        "  * This avoids propagation of empty structures and makes downstream selection steps more stable.\n",
        "\n",
        "* **Output:**\n",
        "\n",
        "  * The function returns two arrays: ($\\Delta\\phi$) and ($\\Delta\\eta$), corresponding to the best-matched reconstructed leptons.\n"
      ],
      "metadata": {
        "id": "Yg3K6MYyQwyC"
      }
    },
    {
      "cell_type": "code",
      "source": [
        "def calc_truth_dphi_and_deta(tr_elec_eta, tr_elec_phi, tr_elec_pt,\n",
        "                             tr_muon_eta, tr_muon_phi, tr_muon_pt,\n",
        "                             re_eta, re_phi, lep_type):\n",
        "\n",
        "    # Broadcast flattened reconstructed electron η where lepton type == 11 (electron) with truth electron η\n",
        "    bee = ak.broadcast_arrays(ak.flatten(re_eta[lep_type == 11]), tr_elec_eta)\n",
        "\n",
        "    # Broadcast flattened reconstructed muon η where lepton type == 13 (muon) with truth muon η\n",
        "    bem = ak.broadcast_arrays(ak.flatten(re_eta[lep_type == 13]), tr_muon_eta)\n",
        "\n",
        "    # Broadcast flattened reconstructed electron φ with truth electron φ\n",
        "    bpe = ak.broadcast_arrays(ak.flatten(re_phi[lep_type == 11]), tr_elec_phi)\n",
        "\n",
        "    # Broadcast flattened reconstructed muon φ with truth muon φ\n",
        "    bpm = ak.broadcast_arrays(ak.flatten(re_phi[lep_type == 13]), tr_muon_phi)\n",
        "\n",
        "    # Compute ΔR between reconstructed electrons and truth electrons\n",
        "    DRe = np.sqrt((bee[0] - tr_elec_eta)**2 + (bpe[0] - tr_elec_phi)**2)\n",
        "\n",
        "    # Compute ΔR between reconstructed muons and truth muons\n",
        "    DRm = np.sqrt((bem[0] - tr_muon_eta)**2 + (bpm[0] - tr_muon_phi)**2)\n",
        "\n",
        "    # For each event, find index of reconstructed electron closest to truth electron (minimal ΔR)\n",
        "    keeper_elec = ak.singletons(ak.argmin(DRe, axis=1))\n",
        "\n",
        "    # For each event, find index of reconstructed muon closest to truth muon (minimal ΔR)\n",
        "    keeper_muon = ak.singletons(ak.argmin(DRm, axis=1))\n",
        "\n",
        "    # Select the matched truth electron η, φ, and pT using the indices of closest reconstructed electron\n",
        "    keeper_e_e = tr_elec_eta[keeper_elec]\n",
        "    keeper_e_p = tr_elec_phi[keeper_elec]\n",
        "    keeper_e_pt = tr_elec_pt[keeper_elec]\n",
        "\n",
        "    # Select the matched truth muon η, φ, and pT using the indices of closest reconstructed muon\n",
        "    keeper_m_e = tr_muon_eta[keeper_muon]\n",
        "    keeper_m_p = tr_muon_phi[keeper_muon]\n",
        "    keeper_m_pt = tr_muon_pt[keeper_muon]\n",
        "\n",
        "    # Handle cases where no matched truth electron exists by replacing with large dummy values\n",
        "    check_keeper_e_e = ak.where(ak.num(keeper_e_e) == 0, [1e5], keeper_e_e)\n",
        "    check_keeper_e_p = ak.where(ak.num(keeper_e_p) == 0, [1e5], keeper_e_p)\n",
        "\n",
        "    # Handle cases where no matched truth muon exists by replacing with large dummy values\n",
        "    check_keeper_m_e = ak.where(ak.num(keeper_m_e) == 0, [1e5], keeper_m_e)\n",
        "    check_keeper_m_p = ak.where(ak.num(keeper_m_p) == 0, [1e5], keeper_m_p)\n",
        "\n",
        "    # Calculate absolute Δη between matched truth electrons and muons\n",
        "    deta = np.abs(check_keeper_e_e - check_keeper_m_e)\n",
        "\n",
        "    # Calculate absolute Δφ between matched truth electrons and muons, using arccos(cos(Δφ)) for proper angle range\n",
        "    dphi = np.abs(np.arccos(np.cos(check_keeper_e_p - check_keeper_m_p)))\n",
        "\n",
        "    # Flatten awkward arrays for output consistency\n",
        "    deta = ak.flatten(deta, axis=None)\n",
        "    dphi = ak.flatten(dphi, axis=None)\n",
        "\n",
        "    return [dphi, deta]"
      ],
      "metadata": {
        "id": "-6bfxn0rYJwc"
      },
      "execution_count": null,
      "outputs": []
    },
    {
      "cell_type": "markdown",
      "source": [
        "# **Event Processing Function**\n",
        "\n",
        "The process_file function processes ROOT files by:\n",
        "\n",
        "1. **Loading data**: Opens the TTree and reads specified variables in chunks\n",
        "2. **Applying selection cuts**: Implements a sequential series of cuts\n",
        "3. **Computing derived quantities**: Calculates invariant mass and event weights\n",
        "\n",
        "The function processes data in chunks to manage memory efficiently and returns a flattened array of all events that pass the selection criteria."
      ],
      "metadata": {
        "id": "UcxtTZcVxuBM"
      }
    },
    {
      "cell_type": "code",
      "source": [
        "# Define a function to process a ROOT file, apply event selections, and compute variables for analysis\n",
        "def process_file(file_path, sample_name, loop, data_type):\n",
        "    # Open the 'analysis' TTree from the ROOT file using uproot\n",
        "    tree = uproot.open(file_path + \":analysis;1\")\n",
        "\n",
        "    # Initialize a list to hold processed data chunks from the file\n",
        "    sample_data = []\n",
        "\n",
        "    # Iterate over entries in the TTree in chunks defined by fraction and loop index\n",
        "    for data in tree.iterate(variables, library=\"ak\",\n",
        "                             entry_start=int(tree.num_entries * fraction * loop),\n",
        "                             entry_stop=int(tree.num_entries * fraction * (loop + 1))):\n",
        "\n",
        "        if data_type == True:\n",
        "            # For reconstructed data or MC with reco-level selections\n",
        "\n",
        "            # Apply cut requiring exactly two leptons per event\n",
        "            data = data[num_lep(data.lep_n)]\n",
        "\n",
        "            # Apply jet selection cuts on pT, eta, and b-tagging\n",
        "            data = data[jets_cuts(data.jet_pt, data.jet_eta, data.jet_btag_quantile)]\n",
        "\n",
        "            # Apply lepton pT and eta cuts\n",
        "            data = data[cut_lep_pt(data.lep_pt, data.lep_eta)]\n",
        "\n",
        "            # Apply lepton charge and type cuts\n",
        "            data = data[charge_and_type_cut(data.lep_type, data.lep_charge)]\n",
        "\n",
        "            # Apply ΔR separation cut between jets and leptons\n",
        "            data = data[cut_DR(data.jet_eta, data.jet_phi, data.lep_eta, data.lep_phi)]\n",
        "\n",
        "            if 'data' not in sample_name:\n",
        "                # For MC samples: calculate event weights using scale factors and cross sections\n",
        "                data['Weight'] = calc_weight(data)\n",
        "\n",
        "                # Calculate truth-level Δφ and Δη between truth electrons and muons matched to reconstructed leptons\n",
        "                Temp_list = calc_truth_dphi_and_deta(\n",
        "                    data.truth_elec_eta, data.truth_elec_phi, data.truth_elec_pt,\n",
        "                    data.truth_muon_eta, data.truth_muon_phi, data.truth_muon_pt,\n",
        "                    data.lep_eta, data.lep_phi, data.lep_type)\n",
        "                data['t_dphi'] = Temp_list[0]\n",
        "                data['t_deta'] = Temp_list[1]\n",
        "\n",
        "            else:\n",
        "                # For real data: assign weight and truth Δφ/Δη arrays of ones\n",
        "                data['Weight'] = ak.ones_like(data['met'])\n",
        "                data['t_dphi'] = ak.ones_like(data['met'])\n",
        "                data['t_deta'] = ak.ones_like(data['met'])\n",
        "\n",
        "            # Calculate reconstructed Δφ and Δη between the two leptons\n",
        "            Temp_list = calc_dphi_and_deta(data.lep_eta, data.lep_phi)\n",
        "            data['dphi'] = Temp_list[0]\n",
        "            data['deta'] = Temp_list[1]\n",
        "\n",
        "        elif data_type == False:\n",
        "            # For particle-level samples: apply truth-level selections\n",
        "\n",
        "            # Require exactly one truth electron and one truth muon\n",
        "            data = data[tr_lep_num_cut(data.truth_elec_pt, data.truth_muon_pt)]\n",
        "\n",
        "            # Apply truth-level lepton pT cuts\n",
        "            data = data[tr_lep_pt_cut(data.truth_elec_pt, data.truth_muon_pt)]\n",
        "\n",
        "            # Apply truth-level jet pT cuts\n",
        "            data = data[tr_jets_cuts(data.truth_jet_pt)]\n",
        "\n",
        "            # Apply ΔR cut between truth leptons and truth jets\n",
        "            data = data[tr_lep_DR_cut(\n",
        "                data.truth_elec_eta, data.truth_elec_phi, data.truth_muon_eta,\n",
        "                data.truth_muon_phi, data.truth_jet_eta, data.truth_jet_phi)]\n",
        "\n",
        "            # Calculate truth-level Δφ and Δη between truth electrons and muons\n",
        "            Temp_list = calc_tr_dphi_and_deta(\n",
        "                data.truth_elec_eta, data.truth_elec_phi,\n",
        "                data.truth_muon_eta, data.truth_muon_phi)\n",
        "            data['t_dphi'] = Temp_list[0]\n",
        "            data['t_deta'] = Temp_list[1]\n",
        "\n",
        "            # Calculate event weights\n",
        "            data['Weight'] = calc_weight(data)\n",
        "\n",
        "            # Set reconstructed Δφ and Δη placeholders as arrays of ones\n",
        "            data['dphi'] = ak.ones_like(data['met'])\n",
        "            data['deta'] = ak.ones_like(data['met'])\n",
        "\n",
        "        else:\n",
        "            # If data_type is neither True nor False: apply both selections\n",
        "\n",
        "            # Apply reconstructed-level selections as in the True case\n",
        "            data = data[num_lep(data.lep_n)]\n",
        "            data = data[jets_cuts(data.jet_pt, data.jet_eta, data.jet_btag_quantile)]\n",
        "            data = data[cut_lep_pt(data.lep_pt, data.lep_eta)]\n",
        "            data = data[charge_and_type_cut(data.lep_type, data.lep_charge)]\n",
        "            data = data[cut_DR(data.jet_eta, data.jet_phi, data.lep_eta, data.lep_phi)]\n",
        "\n",
        "            # Apply truth-level selections as in the False case\n",
        "            data = data[tr_lep_num_cut(data.truth_elec_pt, data.truth_muon_pt)]\n",
        "            data = data[tr_lep_pt_cut(data.truth_elec_pt, data.truth_muon_pt)]\n",
        "            data = data[tr_jets_cuts(data.truth_jet_pt)]\n",
        "            data = data[tr_lep_DR_cut(\n",
        "                data.truth_elec_eta, data.truth_elec_phi, data.truth_muon_eta,\n",
        "                data.truth_muon_phi, data.truth_jet_eta, data.truth_jet_phi)]\n",
        "\n",
        "            # Calculate reconstructed Δφ and Δη\n",
        "            Temp_list = calc_dphi_and_deta(data.lep_eta, data.lep_phi)\n",
        "            data['dphi'] = Temp_list[0]\n",
        "            data['deta'] = Temp_list[1]\n",
        "\n",
        "            # Calculate event weights\n",
        "            data['Weight'] = calc_weight(data)\n",
        "\n",
        "            # Calculate truth-level Δφ and Δη between truth electrons and muons matched to reconstructed leptons\n",
        "            Temp_list = calc_truth_dphi_and_deta(\n",
        "                data.truth_elec_eta, data.truth_elec_phi, data.truth_elec_pt,\n",
        "                data.truth_muon_eta, data.truth_muon_phi, data.truth_muon_pt,\n",
        "                data.lep_eta, data.lep_phi, data.lep_type)\n",
        "            data['t_dphi'] = Temp_list[0]\n",
        "            data['t_deta'] = Temp_list[1]\n",
        "\n",
        "        # Append the processed chunk of data to the list\n",
        "        sample_data.append(data)\n",
        "\n",
        "    # Concatenate all processed chunks along the event axis into one large awkward array\n",
        "    return ak.concatenate(sample_data, axis=0)\n"
      ],
      "metadata": {
        "id": "omOOIW56xvzK"
      },
      "execution_count": null,
      "outputs": []
    },
    {
      "cell_type": "markdown",
      "source": [
        "# **Parallel Analysis Function**\n",
        "\n",
        "The parallel_analysis function processes a file in parallel using multiple processes to analyze data for a given sample. It submits four tasks to process the file using the ProcessPoolExecutor. Each task calls the process_file function. The results from successful tasks are collected and combined into a single Awkward Array."
      ],
      "metadata": {
        "id": "06TCt2mfx9Fs"
      }
    },
    {
      "cell_type": "code",
      "source": [
        "def parallel_analysis(file_path, sample_name, data_type):\n",
        "    # Use a process pool executor to parallelize the processing over 5 chunks\n",
        "    with ProcessPoolExecutor() as executor:\n",
        "        # Submit process_file tasks for loop indices 0 to 4 concurrently,\n",
        "        # storing futures mapped to their loop index\n",
        "        futures = {\n",
        "            executor.submit(process_file, file_path, sample_name, i, data_type): i\n",
        "            for i in range(5)\n",
        "        }\n",
        "\n",
        "        # Initialize list to store completed results\n",
        "        results = []\n",
        "\n",
        "        # Iterate over completed futures as they finish\n",
        "        for future in as_completed(futures):\n",
        "            try:\n",
        "                # Append the processed data chunk returned by process_file\n",
        "                results.append(future.result())\n",
        "            except Exception as e:\n",
        "                # If an exception occurs, print an error message and continue\n",
        "                print(f\"Error in {data_type} loop {futures[future]}: {e}\")\n",
        "                continue\n",
        "\n",
        "    # Concatenate all results into a single Awkward Array if results are available,\n",
        "    combined_array = ak.concatenate(results, axis=0) if results else ak.Array([])\n",
        "\n",
        "    # Return the combined dataset for further analysis\n",
        "    return combined_array"
      ],
      "metadata": {
        "id": "M708DTMZx9uK"
      },
      "execution_count": null,
      "outputs": []
    },
    {
      "cell_type": "markdown",
      "source": [
        "# **Main Analysis Loop**\n",
        "\n",
        "This code initiates the full analysis by iterating over all data and MC samples defined in the `samples` dictionary. For each sample, it processes the associated ROOT files using the `parallel_analysis` function and stores the resulting data in the `data_all` dictionary. The processed outputs are combined into a single Awkward Array per sample."
      ],
      "metadata": {
        "id": "eQDbQxqEyERr"
      }
    },
    {
      "cell_type": "code",
      "source": [
        "# Record the start time of the entire analysis for performance measurement\n",
        "start_all = time.time()\n",
        "\n",
        "# Initialize an empty dictionary to store processed data arrays for each sample\n",
        "data_all = {}\n",
        "\n",
        "# Define the fraction of the dataset to process per loop (reducing fraction decreases runtime)\n",
        "fraction = 0.2\n",
        "\n",
        "# Print status message indicating start of the analysis\n",
        "print(\"The analysis has started\")\n",
        "\n",
        "# Loop over each sample defined in the 'samples' dictionary\n",
        "for sample_name in samples:\n",
        "    # Initialize a list to collect data arrays from multiple files for this sample\n",
        "    frames = []\n",
        "\n",
        "    # Print which sample is currently being processed\n",
        "    print(\"processing the \", sample_name, \" samples\")\n",
        "\n",
        "    # Loop over all ROOT files associated with the current sample\n",
        "    for file_path in samples[sample_name]['list']:\n",
        "        # Process the file with parallelization\n",
        "        DF = parallel_analysis(file_path, sample_name, 1)\n",
        "\n",
        "        # Append the processed data chunk to the frames list\n",
        "        frames.append(DF)\n",
        "\n",
        "    # Concatenate all frames from the current sample into a single awkward array\n",
        "    data_all[sample_name] = ak.concatenate(frames, axis=0)\n",
        "\n",
        "# Record the end time of the entire analysis\n",
        "end_all = time.time()\n",
        "\n",
        "print(f\"\\nTotal time taken to process all samples: {round((end_all - start_all) / 60, 1)} minutes\")"
      ],
      "metadata": {
        "id": "zZEl1zsMyEtA"
      },
      "execution_count": null,
      "outputs": []
    },
    {
      "cell_type": "markdown",
      "source": [
        "# **Data Visualization**\n",
        "**Migration Matrix Construction:**\n",
        "\n",
        "This function constructs a **migration matrix** between the reconstructed and truth-level values of a chosen kinematic observable, and visualizes it as a 2D color-coded histogram. Such matrices are essential in unfolding procedures, as they describe the detector response and how events migrate between bins due to reconstruction effects.\n",
        "\n",
        "* **Procedure:**\n",
        "\n",
        "  * The observable values are extracted from two datasets, `Both_ttbar_df` and `Both_tW_df`, both for reconstructed (`var`) and truth-level (`t_var`) data.\n",
        "\n",
        "  * For angular observables like ($\\Delta\\phi$), normalization is applied:\n",
        "[$\\Delta\\phi \\rightarrow \\frac{\\Delta\\phi}{\\pi}$] to scale the domain to \\([0,1]\\).\n",
        "\n",
        "  * A 2D histogram is computed using `np.histogram2d` over bins defined as:\n",
        "  For ($\\Delta\\eta$): predefined bin edges for finer resolution at low values.For ($\\Delta\\phi$): 10 uniform bins over the normalized range.\n",
        "\n",
        "* **Interpretation:**\n",
        "\n",
        "  * Each row represents a **reconstructed bin**, and each column a **truth bin**.\n",
        "  * A perfect detector would yield a diagonal matrix; off-diagonal elements indicate **migration** between bins due to detector effects.\n",
        "  * This information is critical in unfolding algorithms for correcting detector-level measurements back to particle-level distributions.\n"
      ],
      "metadata": {
        "id": "L7N81yrcW_qw"
      }
    },
    {
      "cell_type": "code",
      "source": [
        "# Define a function to calculate and plot the migration matrix between reconstructed and truth variables\n",
        "def Migration_Matrix(var):\n",
        "    # Normalize Δφ variables by π for comparison between reconstructed (x) and truth (y) levels\n",
        "    if var == 'dphi':\n",
        "        x = (Both_ttbar_df[var] + Both_tW_df[var]) / np.pi\n",
        "        y = (Both_ttbar_df[f't_{var}'] + Both_tW_df[f't_{var}']) / np.pi\n",
        "    else:\n",
        "        # For other variables (like Δη), sum reconstructed and truth values without normalization\n",
        "        x = Both_ttbar_df[var] + Both_tW_df[var]\n",
        "        y = Both_ttbar_df[f't_{var}'] + Both_tW_df[f't_{var}']\n",
        "\n",
        "    # Combine weights from both datasets for histogramming\n",
        "    w = Both_ttbar_df['Weight'] + Both_tW_df['Weight']\n",
        "\n",
        "    # Define bin edges differently for Δη and other variables (like Δφ)\n",
        "    if var == 'deta':\n",
        "        bins = np.array([0, 0.25, 0.5, 0.75, 1, 1.25, 1.5, 1.75, 2, 2.25, 2.5, 2.75, 3, 3.5, 5])\n",
        "    else:\n",
        "        bins = np.linspace(0, 1, 11)  # 10 uniform bins between 0 and 1 for normalized Δφ\n",
        "\n",
        "    # Calculate bin centers and widths for plotting (though widths are unused here)\n",
        "    bin_centres = (bins[:-1] + bins[1:]) / 2\n",
        "    step = bins[1:] - bins[:-1]\n",
        "\n",
        "    # Compute 2D histogram of reco vs truth variable weighted by event weights\n",
        "    H, xedges, yedges = np.histogram2d(x, y, bins=[bins, bins], weights=w)\n",
        "\n",
        "    # Normalize each row of the histogram by the sum over truth bins to get migration percentages\n",
        "    row_sums = H.sum(axis=1, keepdims=True)\n",
        "    H_percent = np.divide(H, row_sums, where=row_sums != 0) * 100  # Avoid division by zero\n",
        "\n",
        "    thresh = 0.0  # Threshold for displaying text in matrix cells\n",
        "\n",
        "    # Create a matplotlib figure and axis for the migration matrix plot\n",
        "    fig, ax = plt.subplots(figsize=(8, 6))\n",
        "\n",
        "    # Plot the migration matrix as a colored mesh, transpose to align axes properly\n",
        "    pcm = ax.pcolormesh(xedges, yedges, H_percent.T, cmap='Blues', vmin=0, vmax=100)\n",
        "\n",
        "    # Add a colorbar indicating migration percentage scale\n",
        "    fig.colorbar(pcm, ax=ax, label='Migration [%]')\n",
        "\n",
        "    # Loop over each cell to annotate the percentage value if above threshold\n",
        "    for i in range(len(xedges) - 1):\n",
        "        for j in range(len(yedges) - 1):\n",
        "            v = H_percent[i, j]\n",
        "            if v > thresh:\n",
        "                ax.text((xedges[i] + xedges[i + 1]) / 2,\n",
        "                        (yedges[j] + yedges[j + 1]) / 2,\n",
        "                        f'{v:.1f}%',\n",
        "                        ha='center', va='center', fontsize=8)\n",
        "\n",
        "    # Set axis labels with LaTeX formatting for clarity\n",
        "    ax.set_xlabel(r'reco $\\Delta\\phi$')\n",
        "    ax.set_ylabel(r'truth $\\Delta\\phi$')\n",
        "\n",
        "    # Set plot title depending on variable type (Δη or Δφ)\n",
        "    ax.set_title(r'Migration Matrix in $\\Delta\\eta$ [%]' if var == 'deta'\n",
        "                 else r'Migration Matrix in $\\Delta\\varphi$ [%]')\n",
        "\n",
        "    # Adjust layout for better spacing\n",
        "    plt.tight_layout()\n",
        "\n",
        "    # Display the plot\n",
        "    plt.show()"
      ],
      "metadata": {
        "id": "DBibbobvW_9-"
      },
      "execution_count": null,
      "outputs": []
    },
    {
      "cell_type": "code",
      "source": [
        "Migration_Matrix('deta')"
      ],
      "metadata": {
        "id": "uTKU9S3XXF-3"
      },
      "execution_count": null,
      "outputs": []
    },
    {
      "cell_type": "code",
      "source": [
        "Migration_Matrix('dphi')"
      ],
      "metadata": {
        "id": "GpGoKuw_XGvV"
      },
      "execution_count": null,
      "outputs": []
    },
    {
      "cell_type": "markdown",
      "source": [
        "**14. Unfolding and Comparison with Data**\n",
        "\n",
        "This function performs one-dimensional unfolding for angular observables ($\\Delta\\eta$ or $\\Delta\\phi$), aiming to correct detector effects and compare particle-level predictions to measured data.\n",
        "\n",
        "\n",
        "* **Migration Matrix Construction:**\n",
        "Built using simulation, mapping truth-level to reconstructed values. Inverted to unfold the reco-level distribution.\n",
        "\n",
        "* **Efficiency & Acceptance Corrections:**\n",
        "Applied bin-by-bin using simulated matched events to ensure detector acceptance and selection efficiency are accounted for.\n",
        "\n",
        "* **Unfolded Results:**\n",
        "Unfolded $t\\bar{t}$ and $tW$ distributions are shown stacked. Statistical and systematic uncertainties are displayed.\n",
        "\n",
        "* **Validation Plot:**\n",
        "Includes a bottom panel with the MC/Data ratio and uncertainty bands for quality assessment.\n",
        "\n",
        "* **Optional Animation:**\n",
        "If Video=True, an animated build-up of the unfolded distribution is shown.\n"
      ],
      "metadata": {
        "id": "-zUfNsZ7Yt4o"
      }
    },
    {
      "cell_type": "code",
      "source": [
        "# Function to perform unfolding of variables and plot comparison with data, optionally creating an animation\n",
        "def cross_last(var, norm, Video):\n",
        "\n",
        "    # Normalize Δφ variables by π if var is 'dphi', else use raw values for Δη\n",
        "    if var == 'dphi':\n",
        "        x = (Both_ttbar_df[var] + Both_tW_df[var]) / np.pi\n",
        "        y = (Both_ttbar_df[f't_{var}'] + Both_tW_df[f't_{var}']) / np.pi\n",
        "    else:\n",
        "        x = Both_ttbar_df[var] + Both_tW_df[var]\n",
        "        y = Both_ttbar_df[f't_{var}'] + Both_tW_df[f't_{var}']\n",
        "\n",
        "    # Combine weights from ttbar and tW samples\n",
        "    w = Both_ttbar_df['Weight'] + Both_tW_df['Weight']\n",
        "\n",
        "    # Define binning for Δη and Δφ differently, with non-uniform bins for Δη\n",
        "    if var == 'deta':\n",
        "        bins = np.array([0, 0.25, 0.5, 0.75, 1, 1.25, 1.5, 1.75, 2, 2.25, 2.5, 2.75, 3, 3.5, 5])\n",
        "    else:\n",
        "        bins = np.linspace(0, 1, 11)  # Uniform bins for normalized Δφ\n",
        "\n",
        "    # Calculate bin centers and widths for plotting bars and steps\n",
        "    bin_centres = (bins[:-1] + bins[1:]) / 2\n",
        "    step = bins[1:] - bins[:-1]\n",
        "\n",
        "    # Calculate 2D histogram (migration matrix) of reco vs truth weighted by event weights\n",
        "    H, xedges, yedges = np.histogram2d(x, y, bins=[bins, bins], weights=w)\n",
        "\n",
        "    # Normalize histogram rows to get percentages (migration matrix in %)\n",
        "    row_sums = H.sum(axis=1, keepdims=True)\n",
        "    H_percent = np.divide(H, row_sums, where=row_sums != 0) * 100\n",
        "\n",
        "    # Convert percentages to fractions for matrix inversion\n",
        "    M = H_percent / 100.0\n",
        "\n",
        "    # Try to invert the migration matrix; if singular use pseudo-inverse\n",
        "    try:\n",
        "        M_inv = np.linalg.inv(M)\n",
        "    except np.linalg.LinAlgError:\n",
        "        M_inv = np.linalg.pinv(M)\n",
        "\n",
        "    # Create figure with two vertically stacked subplots: main plot and residual ratio plot\n",
        "    fig = plt.figure(figsize=(8, 8))\n",
        "    gs = fig.add_gridspec(2, 1, height_ratios=[4, 1], hspace=0.025)\n",
        "    ax = fig.add_subplot(gs[0])\n",
        "    residual_axes = fig.add_subplot(gs[1], sharex=ax)\n",
        "\n",
        "    # Define axis labels and extract histograms for data and MC samples depending on variable\n",
        "    if var == 'dphi':\n",
        "        x_name = r'Particle-level $\\Delta\\phi$ $\\left[\\frac{rad}{\\pi}\\right]$'\n",
        "        y_name = (r'$\\frac{1}{\\sigma}\\cdot\\frac{d\\sigma}{d\\Delta\\phi}$ $\\left[\\frac{\\pi}{rad}\\right]$'\n",
        "                  if norm else r'$\\frac{d\\sigma}{d\\Delta\\phi}$ $\\left[\\frac{fb\\cdot\\pi}{rad}\\right]$')\n",
        "\n",
        "        # Histogram data counts and MC counts\n",
        "        data_counts, _ = np.histogram(Data_df[var] / np.pi, bins=bins)\n",
        "        tW_counts, _ = np.histogram(tW_df[var] / np.pi, bins=bins, weights=tW_df['Weight'])\n",
        "        ttbar_counts, _ = np.histogram(ttbar_df[var] / np.pi, bins=bins, weights=ttbar_df['Weight'])\n",
        "        ttbar_1_counts, _ = np.histogram(ttbar_1_df[var] / np.pi, bins=bins, weights=ttbar_1_df['Weight'])\n",
        "\n",
        "        th_tW_counts, _ = np.histogram(truth_ttbar_df[f't_{var}'] / np.pi, bins=bins, weights=truth_ttbar_df['Weight'])\n",
        "        th_ttbar_counts, _ = np.histogram(truth_tW_df[f't_{var}'] / np.pi, bins=bins, weights=truth_tW_df['Weight'])\n",
        "\n",
        "        bt_tW_counts, _ = np.histogram(Both_ttbar_df[var] / np.pi, bins=bins, weights=Both_ttbar_df['Weight'])\n",
        "        bt_ttbar_counts, _ = np.histogram(Both_tW_df[var] / np.pi, bins=bins, weights=Both_tW_df['Weight'])\n",
        "\n",
        "        stop_counts, _ = np.histogram(stop_df[var] / np.pi, bins=bins, weights=stop_df['Weight'])\n",
        "\n",
        "    else:\n",
        "        x_name = r'Particle-level $\\Delta\\eta$ [unit $\\eta$]'\n",
        "        y_name = (r'$\\frac{1}{\\sigma}\\cdot\\frac{d\\sigma}{d\\Delta\\eta}$ $\\left[\\frac{1}{unit\\:\\eta}\\right]$'\n",
        "                  if norm else r'$\\frac{d\\sigma}{d\\Delta\\eta}$ $\\left[\\frac{fb}{unit\\:\\eta}\\right]$')\n",
        "\n",
        "        data_counts, _ = np.histogram(Data_df[var], bins=bins)\n",
        "        tW_counts, _ = np.histogram(tW_df[var], bins=bins, weights=tW_df['Weight'])\n",
        "        ttbar_counts, _ = np.histogram(ttbar_df[var], bins=bins, weights=ttbar_df['Weight'])\n",
        "        ttbar_1_counts, _ = np.histogram(ttbar_1_df[var], bins=bins, weights=ttbar_1_df['Weight'])\n",
        "\n",
        "        th_tW_counts, _ = np.histogram(truth_ttbar_df[f't_{var}'], bins=bins, weights=truth_ttbar_df['Weight'])\n",
        "        th_ttbar_counts, _ = np.histogram(truth_tW_df[f't_{var}'], bins=bins, weights=truth_tW_df['Weight'])\n",
        "\n",
        "        bt_tW_counts, _ = np.histogram(Both_ttbar_df[var], bins=bins, weights=Both_ttbar_df['Weight'])\n",
        "        bt_ttbar_counts, _ = np.histogram(Both_tW_df[var], bins=bins, weights=Both_tW_df['Weight'])\n",
        "\n",
        "        stop_counts, _ = np.histogram(stop_df[var], bins=bins, weights=stop_df['Weight'])\n",
        "\n",
        "    # Initialize lists for unfolded distributions of different samples\n",
        "    un_ttbar = []\n",
        "    un_tW = []\n",
        "    un_ttbar_1 = []\n",
        "\n",
        "    # Perform unfolding using matrix inversion, with normalization handling\n",
        "    if norm:\n",
        "        for i in range(len(M_inv)):\n",
        "            # Calculate acceptance and efficiency correction factors\n",
        "            facc = (bt_tW_counts[i] + bt_ttbar_counts[i]) / (tW_counts[i] + ttbar_counts[i])\n",
        "            eff = (bt_tW_counts[i] + bt_ttbar_counts[i]) / (th_tW_counts[i] + th_ttbar_counts[i])\n",
        "\n",
        "            # Calculate unfolded yield using inverse migration matrix, normalized to cross-section and bin width\n",
        "            Sum = np.sum(facc * M_inv[i] * (ttbar_counts[i])) / (eff * np.sum(tW_counts + ttbar_counts) * step[i])\n",
        "            un_ttbar.append(Sum)\n",
        "\n",
        "            Sum = np.sum(facc * M_inv[i] * (tW_counts[i])) / (eff * np.sum(tW_counts + ttbar_counts) * step[i])\n",
        "            un_tW.append(Sum)\n",
        "\n",
        "            Sum = np.sum(facc * M_inv[i] * (ttbar_1_counts[i])) / (eff * np.sum(tW_counts + ttbar_counts) * step[i])\n",
        "            un_ttbar_1.append(Sum)\n",
        "\n",
        "        # Calculate statistical uncertainties on data counts normalized by total counts and bin width\n",
        "        err_data = np.sqrt(data_counts) / (np.sum(data_counts) * step)\n",
        "        data_counts = data_counts / (np.sum(data_counts) * step)\n",
        "\n",
        "        un_ttbar = np.array(un_ttbar)\n",
        "        un_tW = np.array(tW_counts / (np.sum(tW_counts + ttbar_counts)))  # normalized MC\n",
        "        un_ttbar_1 = np.array(un_ttbar_1)\n",
        "        total = un_ttbar + un_tW\n",
        "        stop_sin = stop_counts / (np.sum(stop_counts) * step)\n",
        "\n",
        "        err_MC = np.sqrt(ttbar_counts + tW_counts) / (np.sum(ttbar_counts + tW_counts) * step)\n",
        "        sys_counts = (un_ttbar - un_ttbar_1) / un_ttbar\n",
        "\n",
        "    else:\n",
        "        # Non-normalized unfolding: scale by integrated luminosity (36)\n",
        "        for i in range(len(M_inv)):\n",
        "            facc = (bt_tW_counts[i] + bt_ttbar_counts[i]) / (tW_counts[i] + ttbar_counts[i])\n",
        "            eff = (bt_tW_counts[i] + bt_ttbar_counts[i]) / (th_tW_counts[i] + th_ttbar_counts[i])\n",
        "\n",
        "            Sum = np.sum(facc * M_inv[i] * (ttbar_counts[i])) / (eff * 36 * step[i])\n",
        "            un_ttbar.append(Sum)\n",
        "\n",
        "            Sum = np.sum(facc * M_inv[i] * (tW_counts[i])) / (eff * 36 * step[i])\n",
        "            un_tW.append(Sum)\n",
        "\n",
        "            um = np.sum(facc * M_inv[i] * (ttbar_1_counts[i])) / (eff * 36 * step[i])\n",
        "            un_ttbar_1.append(Sum)\n",
        "\n",
        "        data_counts = data_counts / (36 * step)\n",
        "        err_data = np.sqrt(data_counts)\n",
        "        un_ttbar = np.array(un_ttbar)\n",
        "        un_tW = np.array(un_tW)\n",
        "        un_ttbar_1 = ttbar_1_counts / (36 * step)\n",
        "        total = un_ttbar + un_tW\n",
        "        stop_sin = stop_counts / (36 * step)\n",
        "\n",
        "        err_MC = np.sqrt(un_ttbar)\n",
        "        sys_counts = (un_ttbar - un_ttbar_1) / un_ttbar\n",
        "\n",
        "    # Plot stacked bar plots of unfolded MC components\n",
        "    ax.bar(bin_centres, un_tW, width=step, color='cyan', label=r'$tW$')\n",
        "    ax.bar(bin_centres, un_ttbar, bottom=un_tW, width=step, color='orange', label=r'$ttbar$')\n",
        "\n",
        "    # Plot statistical uncertainty as hatched bands\n",
        "    ax.bar(bin_centres, err_MC, alpha=0.5, bottom=total - err_MC / 2, color='none', hatch=\"////\", width=step, label='Stat. Unc.')\n",
        "\n",
        "    # Plot stop quark signal as a step plot\n",
        "    ax.step(bin_centres, stop_sin, color='red', where='mid', label=r\"$\\tilde{t}\\tilde{\\bar{t}}$\")\n",
        "\n",
        "    # Overlay data points with error bars\n",
        "    ax.errorbar(bin_centres, data_counts, xerr=step / 2, yerr=err_data / 2, fmt='.', color='black', label=r'$Data$')\n",
        "\n",
        "    # Set labels and limits for main plot\n",
        "    residual_axes.set_xlabel(x_name, fontsize=16)\n",
        "    residual_axes.set_ylabel('MC/Data')\n",
        "    ax.set_ylabel(y_name, fontsize=20)\n",
        "    ax.set_xlim(bins[0], bins[-1])\n",
        "    ax.set_ylim(bottom=0)\n",
        "    ax.legend()\n",
        "\n",
        "    # Calculate ratio and uncertainty for MC/Data residual plot\n",
        "    ratio = total / data_counts\n",
        "    ratio_err = ratio * err_data / data_counts\n",
        "\n",
        "    # Calculate combined systematic and statistical uncertainties for ratio plot\n",
        "    sys_stat = (err_MC / np.sum(total) + sys_counts)\n",
        "    bot = (1 - sys_stat / 2)\n",
        "\n",
        "    # Plot systematic + statistical uncertainty band and MC/Data ratio points\n",
        "    residual_axes.bar(bin_centres, sys_stat, bottom=bot, width=step, color='gray', alpha=0.5, label=\"sys + sta\")\n",
        "    residual_axes.errorbar(bin_centres, ratio, yerr=ratio_err, xerr=step / 2, fmt='k.')\n",
        "    residual_axes.set_xlabel(x_name, fontsize=16)\n",
        "    residual_axes.set_ylabel('MC/Data', fontsize=12)\n",
        "    residual_axes.axhline(1, color='r', linestyle=(0, (8, 6)), alpha=0.5)\n",
        "    residual_axes.set_ylim(0.5, 1.5)\n",
        "    residual_axes.legend()\n",
        "\n",
        "    # If Video flag is True, create an animation showing incremental build-up of the plot\n",
        "    if Video:\n",
        "        residual_axes.clear()\n",
        "        residual_axes.set_xlabel(x_name, fontsize=16)\n",
        "        residual_axes.set_ylabel('MC/Data', fontsize=12)\n",
        "        residual_axes.axhline(1, color='r', linestyle=(0, (8, 6)), alpha=0.5)\n",
        "        residual_axes.set_ylim(0.75, 1.25)\n",
        "\n",
        "        # Animation update function to draw incremental parts of the plot frame by frame\n",
        "        def update(frame):\n",
        "            if frame < len(bin_centres):\n",
        "                ax.clear()\n",
        "                residual_axes.clear()\n",
        "                bc = bin_centres[:frame + 1]\n",
        "                tW = un_tW[:frame + 1]\n",
        "                st = step[:frame + 1]\n",
        "                ax.bar(bc, tW, width=st, color='cyan', label=r'$tW$')\n",
        "                ax.legend()\n",
        "\n",
        "            elif (frame > len(bin_centres)) & (frame <= 2 * len(bin_centres)):\n",
        "                ax.clear()\n",
        "                ax.bar(bin_centres, un_tW, width=step, color='cyan', label=r'$tW$')\n",
        "                bc = bin_centres[:frame + 1 - len(bin_centres)]\n",
        "                tW = un_tW[:frame + 1 - len(bin_centres)]\n",
        "                ttbar = un_ttbar[:frame + 1 - len(bin_centres)]\n",
        "                st = step[:frame + 1 - len(bin_centres)]\n",
        "                ax.bar(bc, ttbar, bottom=tW, width=st, color='orange', label=r'$ttbar$')\n",
        "                ax.legend()\n",
        "\n",
        "            elif (frame > 2 * len(bin_centres)) & (frame <= 3 * len(bin_centres)):\n",
        "                ax.clear()\n",
        "                ax.bar(bin_centres, un_tW, width=step, color='cyan', label=r'$tW$')\n",
        "                ax.bar(bin_centres, un_ttbar, bottom=un_tW, width=step, color='orange', label=r'$ttbar$')\n",
        "                bc = bin_centres[:frame + 1 - 2 * len(bin_centres)]\n",
        "                tW = un_tW[:frame + 1 - 2 * len(bin_centres)]\n",
        "                ttbar = un_ttbar[:frame + 1 - 2 * len(bin_centres)]\n",
        "                eM = err_MC[:frame + 1 - 2 * len(bin_centres)]\n",
        "                st = step[:frame + 1 - 2 * len(bin_centres)]\n",
        "                ax.bar(bc, eM, alpha=0.5, bottom=(tW + ttbar) - eM / 2, color='none', hatch=\"////\", width=st, label='Stat. Unc.')\n",
        "                ax.legend()\n",
        "\n",
        "            elif (frame > 3 * len(bin_centres)) & (frame <= 4 * len(bin_centres)):\n",
        "                ax.clear()\n",
        "                ax.bar(bin_centres, un_tW, width=step, color='cyan', label=r'$tW$')\n",
        "                ax.bar(bin_centres, un_ttbar, bottom=un_tW, width=step, color='orange', label=r'$ttbar$')\n",
        "                ax.bar(bin_centres, err_MC, alpha=0.5, bottom=total - err_MC / 2, color='none', hatch=\"////\", width=step, label='Stat. Unc.')\n",
        "                bc = bin_centres[:frame + 1 - 3 * len(bin_centres)]\n",
        "                dc = data_counts[:frame + 1 - 3 * len(bin_centres)]\n",
        "                st = step[:frame + 1 - 3 * len(bin_centres)]\n",
        "                ed = err_data[:frame + 1 - 3 * len(bin_centres)]\n",
        "                ax.errorbar(bc, dc, xerr=st / 2, yerr=ed / 2, fmt='.', color='black', label=r'$Data$')\n",
        "                ax.legend()\n",
        "\n",
        "            elif (frame > 4 * len(bin_centres)) & (frame <= 5 * len(bin_centres)):\n",
        "                residual_axes.clear()\n",
        "                bc = bin_centres[:frame + 1 - 4 * len(bin_centres)]\n",
        "                sy_st = sys_stat[:frame + 1 - 4 * len(bin_centres)]\n",
        "                bot_ = bot[:frame + 1 - 4 * len(bin_centres)]\n",
        "                st = step[:frame + 1 - 4 * len(bin_centres)]\n",
        "                residual_axes.set_xlabel(x_name, fontsize=16)\n",
        "                residual_axes.set_ylabel('MC/Data', fontsize=12)\n",
        "                residual_axes.axhline(1, color='r', linestyle=(0, (8, 6)), alpha=0.5)\n",
        "                residual_axes.set_ylim(0.75, 1.25)\n",
        "                residual_axes.bar(bc, sy_st, bottom=bot_, width=st, color='gray', alpha=0.5, label=\"sys + sta\")\n",
        "                residual_axes.legend()\n",
        "\n",
        "            elif (frame > 5 * len(bin_centres)) & (frame <= 6 * len(bin_centres)):\n",
        "                residual_axes.clear()\n",
        "                residual_axes.bar(bin_centres, sys_stat, bottom=bot, width=step, color='gray', alpha=0.5, label=\"sys + sta\")\n",
        "                bc = bin_centres[:frame + 1 - 5 * len(bin_centres)]\n",
        "                rt = ratio[:frame + 1 - 5 * len(bin_centres)]\n",
        "                rt_e = ratio_err[:frame + 1 - 5 * len(bin_centres)]\n",
        "                st = step[:frame + 1 - 5 * len(bin_centres)]\n",
        "                residual_axes.set_xlabel(x_name, fontsize=16)\n",
        "                residual_axes.set_ylabel('MC/Data', fontsize=12)\n",
        "                residual_axes.axhline(1, color='r', linestyle=(0, (8, 6)), alpha=0.5)\n",
        "                residual_axes.set_ylim(0.75, 1.25)\n",
        "                residual_axes.errorbar(bc, rt, yerr=rt_e, xerr=st / 2, fmt='k.', label=\"ratio\")\n",
        "                residual_axes.legend()\n",
        "\n",
        "            elif (frame > 6 * len(bin_centres)) & (frame <= 7 * len(bin_centres)):\n",
        "                ax.clear()\n",
        "                ax.errorbar(bin_centres, data_counts, xerr=step / 2, yerr=err_data / 2, fmt='.', color='black', label=r'$Data$')\n",
        "                ax.bar(bin_centres, un_tW, width=step, color='cyan', label=r'$tW$')\n",
        "                ax.bar(bin_centres, un_ttbar, bottom=un_tW, width=step, color='orange', label=r'$ttbar$')\n",
        "                ax.bar(bin_centres, err_MC, alpha=0.5, bottom=total - err_MC / 2, color='none', hatch=\"////\", width=step, label='Stat. Unc.')\n",
        "                bc = bin_centres[:frame + 1 - 6 * len(bin_centres)]\n",
        "                tW = un_tW[:frame + 1 - 6 * len(bin_centres)]\n",
        "                sts = stop_sin[:frame + 1 - 6 * len(bin_centres)]\n",
        "                ax.step(bc, sts, color='red', where='mid', label=r\"$\\tilde{t}\\tilde{\\bar{t}}$\")\n",
        "                ax.legend()\n",
        "\n",
        "            # Set consistent axis limits and labels each frame\n",
        "            ax.set_ylabel(y_name, fontsize=20)\n",
        "            ax.set_xlim(bins[0], bins[-1])\n",
        "            ax.set_ylim(0)\n",
        "\n",
        "            return ax.get_children()\n",
        "\n",
        "        print(\"Creating animation...\")\n",
        "        ani = animation.FuncAnimation(fig, update, frames=7 * len(bin_centres), interval=80, repeat=True)\n",
        "\n",
        "        # Return HTML animation for Jupyter Notebook or show plot otherwise\n",
        "        try:\n",
        "            from IPython.display import HTML\n",
        "            plt.close()  # Close static plot to avoid duplicate display\n",
        "            return HTML(ani.to_jshtml())\n",
        "        except ImportError:\n",
        "            plt.show()\n",
        "            return ani\n",
        "    else:\n",
        "        plt.show()\n",
        "        return"
      ],
      "metadata": {
        "id": "o80qHDONmyCb"
      },
      "execution_count": null,
      "outputs": []
    },
    {
      "cell_type": "code",
      "source": [
        "cross_last('deta',0,0)"
      ],
      "metadata": {
        "colab": {
          "base_uri": "https://localhost:8080/",
          "height": 706
        },
        "id": "rbc5Rc40mxfr",
        "outputId": "f2ae2b2b-ab43-4d79-874e-2889be27424e"
      },
      "execution_count": null,
      "outputs": [
        {
          "output_type": "display_data",
          "data": {
            "text/plain": [
              "<Figure size 800x800 with 2 Axes>"
            ],
            "image/png": "[encoded data removed]"
          },
          "metadata": {}
        }
      ]
    },
    {
      "cell_type": "code",
      "source": [
        "cross_last('deta',1,0)"
      ],
      "metadata": {
        "id": "2yeNNU_0myO8",
        "colab": {
          "base_uri": "https://localhost:8080/",
          "height": 706
        },
        "outputId": "3587a282-64f4-4ebf-f91a-fe6f1a9988a6"
      },
      "execution_count": null,
      "outputs": [
        {
          "output_type": "display_data",
          "data": {
            "text/plain": [
              "<Figure size 800x800 with 2 Axes>"
            ],
            "image/png": "[encoded data removed]"
          },
          "metadata": {}
        }
      ]
    },
    {
      "cell_type": "code",
      "source": [
        "cross_last('dphi',0,0)"
      ],
      "metadata": {
        "id": "HcZJasXLmzAq",
        "colab": {
          "base_uri": "https://localhost:8080/",
          "height": 713
        },
        "outputId": "9be8d4de-9dac-403f-d8ff-c58549f47177"
      },
      "execution_count": null,
      "outputs": [
        {
          "output_type": "display_data",
          "data": {
            "text/plain": [
              "<Figure size 800x800 with 2 Axes>"
            ],
            "image/png": "[encoded data removed]"
          },
          "metadata": {}
        }
      ]
    },
    {
      "cell_type": "code",
      "source": [
        "cross_last('dphi',1,0)"
      ],
      "metadata": {
        "id": "9dagRBLHmy9r",
        "colab": {
          "base_uri": "https://localhost:8080/",
          "height": 713
        },
        "outputId": "acb2f5dc-a6c8-4f4d-f078-278a0f1e5184"
      },
      "execution_count": null,
      "outputs": [
        {
          "output_type": "display_data",
          "data": {
            "text/plain": [
              "<Figure size 800x800 with 2 Axes>"
            ],
            "image/png": "[encoded data removed]"
          },
          "metadata": {}
        }
      ]
    }
  ]
}